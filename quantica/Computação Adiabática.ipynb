{
 "cells": [
  {
   "cell_type": "code",
   "execution_count": null,
   "metadata": {},
   "outputs": [],
   "source": [
    "## imports\n",
    "import neal\n",
    "import dwavebinarycsp\n",
    "import matplotlib.pyplot as plt\n",
    "import networkx as nx"
   ]
  },
  {
   "cell_type": "markdown",
   "metadata": {},
   "source": [
    "### Definições"
   ]
  },
  {
   "cell_type": "code",
   "execution_count": null,
   "metadata": {},
   "outputs": [],
   "source": [
    "plt.rcParams['figure.figsize'] = [12, 8]\n",
    "plt.rcParams['figure.dpi'] = 100 # 200 e.g. is really fine, but slower\n",
    "\n",
    "def plot_color_map(sample, regions, neighbors, colors):\n",
    "    G = nx.Graph()\n",
    "    G.add_nodes_from(regions)\n",
    "    G.add_edges_from(neighbors)\n",
    "    \n",
    "    color_map = {}\n",
    "    for region in regions:\n",
    "        for i in range(colors):\n",
    "            if sample[f\"{region}{i}\"]:\n",
    "                color_map[region] = i\n",
    "                \n",
    "    node_colors = [color_map.get(node) for node in G.nodes()]\n",
    "    nx.draw_circular(G, with_labels=True, node_color=node_colors, node_size=3000, cmap=plt.cm.rainbow)\n",
    "    plt.show()\n",
    "\n",
    "def plot_map(regions, neighbors):\n",
    "    G = nx.Graph()\n",
    "    G.add_nodes_from(regions)\n",
    "    G.add_edges_from(neighbors)\n",
    "      \n",
    "    nx.draw_circular(G, with_labels=True, node_size=3000, cmap=plt.cm.rainbow)\n",
    "    plt.show()\n",
    "    \n",
    "def plot_hist(samples, variables=None):\n",
    "    if variables is None: variables = list(samples.keys())\n",
    "    results = {}\n",
    "    for sample in samples:\n",
    "        for key in sample:\n",
    "            if key in results:\n",
    "                results[key]+= sample[key]\n",
    "            else:\n",
    "                results[key] = sample[key]\n",
    "                \n",
    "    results = {key: ((results[key] / len(samples)) if key in results else 0.0) for key in sorted(variables)}\n",
    "\n",
    "    plt.bar(results.keys(), results.values(), 0.6, color='b')\n",
    "    plt.xticks(rotation=80)\n",
    "    plt.show()"
   ]
  },
  {
   "cell_type": "markdown",
   "metadata": {},
   "source": [
    "# Coloração do mapa do Brasil em regiões"
   ]
  },
  {
   "cell_type": "markdown",
   "metadata": {},
   "source": [
    "<img src=\"regioes.jpg\">"
   ]
  },
  {
   "cell_type": "code",
   "execution_count": null,
   "metadata": {},
   "outputs": [],
   "source": [
    "regiões = ['Norte', 'Nordeste', 'Centro-Oeste', 'Sudeste', 'Sul']\n",
    "vizinhos = {\n",
    "    'Norte': ['Nordeste', 'Centro-Oeste'],\n",
    "    'Nordeste': ['Norte', 'Centro-Oeste', 'Sudeste'],\n",
    "    'Centro-Oeste': ['Norte', 'Nordeste', 'Sudeste', 'Sul'],\n",
    "    'Sudeste' : ['Nordeste', 'Centro-Oeste', 'Sul'],\n",
    "    'Sul' : ['Centro-Oeste', 'Sudeste']\n",
    "}\n",
    "pares = [(v, u) for v in vizinhos for u in vizinhos[v]]\n",
    "\n",
    "plot_map(regiões, pares)"
   ]
  },
  {
   "cell_type": "markdown",
   "metadata": {},
   "source": [
    "## Restrições"
   ]
  },
  {
   "cell_type": "code",
   "execution_count": null,
   "metadata": {},
   "outputs": [],
   "source": [
    "# Cria-se um problema de satisfação de restrições (Binário)\n",
    "psc = dwavebinarycsp.ConstraintSatisfactionProblem(dwavebinarycsp.BINARY)"
   ]
  },
  {
   "cell_type": "code",
   "execution_count": null,
   "metadata": {},
   "outputs": [],
   "source": [
    "# Configurações válidas para que cada vértice selecione apenas uma cor.\n",
    "configurações = {(0, 0, 0, 1), (0, 0, 1, 0), (0, 1, 0, 0), (1, 0, 0, 0)}\n",
    "cores = len(configurações)\n",
    "\n",
    "fixo = False\n",
    "\n",
    "variáveis = set()\n",
    "\n",
    "# Adiciona-se a restrição de que cada região selecione apenas uma cor.\n",
    "for região in regiões:\n",
    "    _variáveis = [f\"{região}{i}\" for i in range(cores)]\n",
    "    if fixo and região == \"Centro-Oeste\":\n",
    "        psc.add_constraint({(1, 0, 0, 0),},  _variáveis)\n",
    "    else:\n",
    "        psc.add_constraint(configurações, _variáveis)\n",
    "    variáveis.update(_variáveis)"
   ]
  },
  {
   "cell_type": "code",
   "execution_count": null,
   "metadata": {},
   "outputs": [],
   "source": [
    "# Vértices vizinhos não devem possuir a mesma cor.\n",
    "def cores_distintas(v, u):\n",
    "    return not (v and u)"
   ]
  },
  {
   "cell_type": "code",
   "execution_count": null,
   "metadata": {},
   "outputs": [],
   "source": [
    "# Adiciona-se a restrição de que regiões vizinhas tenham cores diferentes.\n",
    "for v, u in pares:\n",
    "    for i in range(colors):\n",
    "        _variáveis = [f\"{v}{i}\", f\"{u}{i}\"]\n",
    "        psc.add_constraint(cores_distintas, _variáveis)\n",
    "        variáveis.update(_variáveis)"
   ]
  },
  {
   "cell_type": "markdown",
   "metadata": {},
   "source": [
    "## Conversão"
   ]
  },
  {
   "cell_type": "code",
   "execution_count": null,
   "metadata": {},
   "outputs": [],
   "source": [
    "# Converte o problema de restrições binárias em um modelo binário quadrático.\n",
    "mbq = dwavebinarycsp.stitch(psc)"
   ]
  },
  {
   "cell_type": "markdown",
   "metadata": {},
   "source": [
    "## Resolução"
   ]
  },
  {
   "cell_type": "code",
   "execution_count": null,
   "metadata": {},
   "outputs": [],
   "source": [
    "# Usa o simulador para resolver o problema\n",
    "num = 10\n",
    "\n",
    "sampler = neal.SimulatedAnnealingSampler() \n",
    "resposta = sampler.sample(mbq, num_reads=num)"
   ]
  },
  {
   "cell_type": "code",
   "execution_count": null,
   "metadata": {},
   "outputs": [],
   "source": [
    "# Exibe a amostra de menor energia (se atender às restrições)\n",
    "amostras = list(resposta.samples())\n",
    "\n",
    "plot_hist(amostras, variáveis)\n",
    "\n",
    "if not psc.check(amostras[0]): \n",
    "    print(\"Coloração Falhou.\")\n",
    "else:\n",
    "    plot_color_map(amostra, regiões, pares, cores)"
   ]
  }
 ],
 "metadata": {
  "kernelspec": {
   "display_name": "Python 3",
   "language": "python",
   "name": "python3"
  },
  "language_info": {
   "codemirror_mode": {
    "name": "ipython",
    "version": 3
   },
   "file_extension": ".py",
   "mimetype": "text/x-python",
   "name": "python",
   "nbconvert_exporter": "python",
   "pygments_lexer": "ipython3",
   "version": "3.8.1"
  }
 },
 "nbformat": 4,
 "nbformat_minor": 4
}
